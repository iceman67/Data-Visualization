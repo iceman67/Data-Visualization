{
 "cells": [
  {
   "cell_type": "code",
   "execution_count": 1,
   "metadata": {},
   "outputs": [],
   "source": [
    "import requests\n",
    "import json\n",
    "import pandas as pd\n",
    "from pandas.io.json import json_normalize"
   ]
  },
  {
   "cell_type": "code",
   "execution_count": 2,
   "metadata": {},
   "outputs": [
    {
     "data": {
      "text/plain": [
       "'{\"list\":[{\"seq\":0,\"sido_cd\":null,\"sido_nm\":null,\"gugun_cd\":null,\"gugun_nm\":null,\"code_order\":null,\"view_yn\":null,\"store_num\":null,\"sido\":null,\"gugun\":null,\"address\":null,\"new_img_nm\":null,\"p_pro_seq\":0,\"p_view_yn\":null,\"p_sido_cd\":\"\",\"p_gugun_cd\":\"\",\"p_store_nm\":null,\"p_theme_cd\":null,\"p_wireless_yn\":null,\"p_smoking_yn\":null,\"p_book_yn\":null,\"p_music_yn\":null,\"p_terrace_yn\":null,\"p_table_yn\":null,\"p_takeout_yn\":null,\"p_parking_yn\":null,\"p_dollar_assent\":null,\"p_card_recharge\":null,\"p_subway_yn\":null,\"stb_store_file_renew\":null,\"stb_store_theme_renew\":null,\"stb_store_time_renew\":null,\"stb_store_lsm\":null,\"s_code\":\"1509\",\"s_name\":\"역삼아레나빌딩\",\"tel\":\"02-568-3762\",\"fax\":\"02-568-3763\",\"sido_code\":\"01\",\"sido_name\":\"서울\",\"gugun_code\":\"0101\",\"gugun_name\":\"강남구\",\"addr\":\"서울특별시 강남구 역삼동 721-13 아레나빌딩\",\"park_info\":null,\"new_state\":null,\"theme_state\":\"T04@T05@T08@T16@T17@T20@T21@P80@P90\",\"new_bool\":0,\"search_text\":\"\",\"ins_lat\":\"\",\"ins_lng\":\"\",\"in_distance\":0,\"out_distance\":\"9.26\",\"all_search_cnt\":-1,\"addr'"
      ]
     },
     "execution_count": 2,
     "metadata": {},
     "output_type": "execute_result"
    }
   ],
   "source": [
    "data = {\n",
    "    'ins_lat':'37.56682', # 지정한 위도와 경도에서 가까운 순으로 나열\n",
    "    'ins_lng':'126.97865',\n",
    "    'p_sido_cd':'01', # 01=서울시, 08=경기 ... 16=제주\n",
    "    'p_gugun_cd':'',  # 세부지역 (지정하지 않으면 시/도 전체)\n",
    "    'in_biz_cd':'',\n",
    "    'set_date':'',\n",
    "    'iend':'1000',\n",
    "}\n",
    "    \n",
    "url = 'https://www.istarbucks.co.kr/store/getStore.do'\n",
    "r = requests.post(url, data=data)\n",
    "\n",
    "r.text[:1000] # 수신된 데이터의 앞부분만 확인"
   ]
  },
  {
   "cell_type": "code",
   "execution_count": 3,
   "metadata": {},
   "outputs": [],
   "source": [
    "jo = json.loads(r.text)\n",
    "df = pd.json_normalize(jo, 'list')\n"
   ]
  },
  {
   "cell_type": "code",
   "execution_count": 4,
   "metadata": {},
   "outputs": [
    {
     "data": {
      "text/plain": [
       "509"
      ]
     },
     "execution_count": 4,
     "metadata": {},
     "output_type": "execute_result"
    }
   ],
   "source": [
    "# 행(row)수, 서울 457개 매장\n",
    "len(df) "
   ]
  },
  {
   "cell_type": "code",
   "execution_count": 5,
   "metadata": {},
   "outputs": [
    {
     "data": {
      "text/plain": [
       "Index(['seq', 'sido_cd', 'sido_nm', 'gugun_cd', 'gugun_nm', 'code_order',\n",
       "       'view_yn', 'store_num', 'sido', 'gugun',\n",
       "       ...\n",
       "       'p60', 'p30', 'p70', 'p40', 'p80', 't22', 't21', 'p90', 't05', 't30'],\n",
       "      dtype='object', length=122)"
      ]
     },
     "execution_count": 5,
     "metadata": {},
     "output_type": "execute_result"
    }
   ],
   "source": [
    "# 컬럼수 111개\n",
    "df.columns"
   ]
  },
  {
   "cell_type": "code",
   "execution_count": 6,
   "metadata": {},
   "outputs": [
    {
     "data": {
      "text/html": [
       "<div>\n",
       "<style scoped>\n",
       "    .dataframe tbody tr th:only-of-type {\n",
       "        vertical-align: middle;\n",
       "    }\n",
       "\n",
       "    .dataframe tbody tr th {\n",
       "        vertical-align: top;\n",
       "    }\n",
       "\n",
       "    .dataframe thead th {\n",
       "        text-align: right;\n",
       "    }\n",
       "</style>\n",
       "<table border=\"1\" class=\"dataframe\">\n",
       "  <thead>\n",
       "    <tr style=\"text-align: right;\">\n",
       "      <th></th>\n",
       "      <th>s_name</th>\n",
       "      <th>lat</th>\n",
       "      <th>lot</th>\n",
       "      <th>sido_name</th>\n",
       "      <th>gugun_name</th>\n",
       "      <th>doro_address</th>\n",
       "      <th>tel</th>\n",
       "    </tr>\n",
       "  </thead>\n",
       "  <tbody>\n",
       "    <tr>\n",
       "      <th>0</th>\n",
       "      <td>역삼아레나빌딩</td>\n",
       "      <td>37.501087</td>\n",
       "      <td>127.043069</td>\n",
       "      <td>서울</td>\n",
       "      <td>강남구</td>\n",
       "      <td>서울특별시 강남구 언주로 425 (역삼동)</td>\n",
       "      <td>02-568-3762</td>\n",
       "    </tr>\n",
       "    <tr>\n",
       "      <th>1</th>\n",
       "      <td>논현역사거리</td>\n",
       "      <td>37.510178</td>\n",
       "      <td>127.022223</td>\n",
       "      <td>서울</td>\n",
       "      <td>강남구</td>\n",
       "      <td>서울특별시 강남구 강남대로 538 (논현동)</td>\n",
       "      <td>02-3442-3672</td>\n",
       "    </tr>\n",
       "    <tr>\n",
       "      <th>2</th>\n",
       "      <td>신사역성일빌딩</td>\n",
       "      <td>37.514132</td>\n",
       "      <td>127.020563</td>\n",
       "      <td>서울</td>\n",
       "      <td>강남구</td>\n",
       "      <td>서울특별시 강남구 강남대로 584 (논현동)</td>\n",
       "      <td>02-547-3858</td>\n",
       "    </tr>\n",
       "    <tr>\n",
       "      <th>3</th>\n",
       "      <td>국기원사거리</td>\n",
       "      <td>37.499517</td>\n",
       "      <td>127.031495</td>\n",
       "      <td>서울</td>\n",
       "      <td>강남구</td>\n",
       "      <td>서울특별시 강남구 테헤란로 125 (역삼동)</td>\n",
       "      <td>02-568-3668</td>\n",
       "    </tr>\n",
       "    <tr>\n",
       "      <th>4</th>\n",
       "      <td>스탈릿대치R</td>\n",
       "      <td>37.494668</td>\n",
       "      <td>127.062583</td>\n",
       "      <td>서울</td>\n",
       "      <td>강남구</td>\n",
       "      <td>서울특별시 강남구 남부순환로 2947 (대치동)</td>\n",
       "      <td>02-568-3704</td>\n",
       "    </tr>\n",
       "  </tbody>\n",
       "</table>\n",
       "</div>"
      ],
      "text/plain": [
       "    s_name        lat         lot sido_name gugun_name  \\\n",
       "0  역삼아레나빌딩  37.501087  127.043069        서울        강남구   \n",
       "1   논현역사거리  37.510178  127.022223        서울        강남구   \n",
       "2  신사역성일빌딩  37.514132  127.020563        서울        강남구   \n",
       "3   국기원사거리  37.499517  127.031495        서울        강남구   \n",
       "4   스탈릿대치R  37.494668  127.062583        서울        강남구   \n",
       "\n",
       "                 doro_address           tel  \n",
       "0     서울특별시 강남구 언주로 425 (역삼동)   02-568-3762  \n",
       "1    서울특별시 강남구 강남대로 538 (논현동)  02-3442-3672  \n",
       "2    서울특별시 강남구 강남대로 584 (논현동)   02-547-3858  \n",
       "3    서울특별시 강남구 테헤란로 125 (역삼동)   02-568-3668  \n",
       "4  서울특별시 강남구 남부순환로 2947 (대치동)   02-568-3704  "
      ]
     },
     "execution_count": 6,
     "metadata": {},
     "output_type": "execute_result"
    }
   ],
   "source": [
    "df = df[['s_name', 'lat', 'lot', 'sido_name', 'gugun_name', 'doro_address', 'tel']]\n",
    "df.head()"
   ]
  },
  {
   "cell_type": "code",
   "execution_count": 7,
   "metadata": {
    "scrolled": true
   },
   "outputs": [
    {
     "data": {
      "text/html": [
       "<div style=\"width:100%;\"><div style=\"position:relative;width:100%;height:0;padding-bottom:60%;\"><iframe src=\"data:text/html;charset=utf-8;base64,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\" style=\"position:absolute;width:100%;height:100%;left:0;top:0;border:none !important;\" allowfullscreen webkitallowfullscreen mozallowfullscreen></iframe></div></div>"
      ],
      "text/plain": [
       "<folium.folium.Map at 0x107545898>"
      ]
     },
     "execution_count": 7,
     "metadata": {},
     "output_type": "execute_result"
    }
   ],
   "source": [
    "import folium\n",
    "\n",
    "# 서울 시청 \n",
    "map_osm = folium.Map(location=(37.56629, 126.979808))\n",
    "map_osm"
   ]
  },
  {
   "cell_type": "code",
   "execution_count": 8,
   "metadata": {},
   "outputs": [
    {
     "data": {
      "text/html": [
       "<div style=\"width:100%;\"><div style=\"position:relative;width:100%;height:0;padding-bottom:60%;\"><iframe src=\"data:text/html;charset=utf-8;base64,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\" style=\"position:absolute;width:100%;height:100%;left:0;top:0;border:none !important;\" allowfullscreen webkitallowfullscreen mozallowfullscreen></iframe></div></div>"
      ],
      "text/plain": [
       "<folium.folium.Map at 0x107e5a9b0>"
      ]
     },
     "execution_count": 8,
     "metadata": {},
     "output_type": "execute_result"
    }
   ],
   "source": [
    "# 확대 지정 (zoom_start)\n",
    "map_osm = folium.Map(location=(37.56629, 126.979808), zoom_start=17)\n",
    "map_osm"
   ]
  },
  {
   "cell_type": "code",
   "execution_count": 9,
   "metadata": {},
   "outputs": [
    {
     "data": {
      "text/html": [
       "<div style=\"width:100%;\"><div style=\"position:relative;width:100%;height:0;padding-bottom:60%;\"><iframe src=\"data:text/html;charset=utf-8;base64,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\" style=\"position:absolute;width:100%;height:100%;left:0;top:0;border:none !important;\" allowfullscreen webkitallowfullscreen mozallowfullscreen></iframe></div></div>"
      ],
      "text/plain": [
       "<folium.folium.Map at 0x107e3e8d0>"
      ]
     },
     "execution_count": 9,
     "metadata": {},
     "output_type": "execute_result"
    }
   ],
   "source": [
    "# 지도 tiles 지정\n",
    "map_osm = folium.Map(location=(37.56629, 126.979808), zoom_start=17, tiles='Stamen Toner')\n",
    "map_osm"
   ]
  },
  {
   "cell_type": "code",
   "execution_count": 10,
   "metadata": {},
   "outputs": [
    {
     "data": {
      "text/html": [
       "<div style=\"width:100%;\"><div style=\"position:relative;width:100%;height:0;padding-bottom:60%;\"><iframe src=\"data:text/html;charset=utf-8;base64,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\" style=\"position:absolute;width:100%;height:100%;left:0;top:0;border:none !important;\" allowfullscreen webkitallowfullscreen mozallowfullscreen></iframe></div></div>"
      ],
      "text/plain": [
       "<folium.folium.Map at 0x107e5cb70>"
      ]
     },
     "execution_count": 10,
     "metadata": {},
     "output_type": "execute_result"
    }
   ],
   "source": [
    "시청_좌표=(37.56629, 126.979808)\n",
    " \n",
    "map_osm = folium.Map(location=시청_좌표, zoom_start=17)\n",
    "folium.Marker(시청_좌표, popup='시청').add_to(map_osm)\n",
    "map_osm"
   ]
  },
  {
   "cell_type": "code",
   "execution_count": 24,
   "metadata": {
    "scrolled": true
   },
   "outputs": [
    {
     "data": {
      "text/html": [
       "<div style=\"width:100%;\"><div style=\"position:relative;width:100%;height:0;padding-bottom:60%;\"><iframe src=\"data:text/html;charset=utf-8;base64,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\" style=\"position:absolute;width:100%;height:100%;left:0;top:0;border:none !important;\" allowfullscreen webkitallowfullscreen mozallowfullscreen></iframe></div></div>"
      ],
      "text/plain": [
       "<folium.folium.Map at 0x1067d0518>"
      ]
     },
     "execution_count": 24,
     "metadata": {},
     "output_type": "execute_result"
    }
   ],
   "source": [
    "# 천안 시청 \n",
    "천안시청=(36.8151, 127.1139)\n",
    "data = {\n",
    "    'ins_lat': '36.8151', # 천안 시청의 좌표\n",
    "    'ins_lng': '127.1139',\n",
    "    'p_sido_cd':'14', # 01=서울시, 08=경기 ... 16=제주\n",
    "    'p_gugun_cd':'',  # 세부지역 (지정하지 않으면 시/도 전체)\n",
    "    'in_biz_cd':'',\n",
    "    'set_date':'',\n",
    "    'iend':'1000',\n",
    "}\n",
    "url = 'https://www.istarbucks.co.kr/store/getStore.do'\n",
    "r = requests.post(url, data=data)\n",
    "df = pd.json_normalize(json.loads(r.text), 'list')\n",
    "\n",
    "map_osm = folium.Map(location=천안시청, zoom_start=12)\n",
    "\n",
    "for ix, row in df.iterrows():\n",
    "    location = (row['lat'], row['lot'])\n",
    "    folium.Marker(location, popup=row['s_name']).add_to(map_osm)\n",
    "\n",
    "map_osm"
   ]
  },
  {
   "cell_type": "code",
   "execution_count": null,
   "metadata": {},
   "outputs": [],
   "source": []
  }
 ],
 "metadata": {
  "kernelspec": {
   "display_name": "Python 3",
   "language": "python",
   "name": "python3"
  },
  "language_info": {
   "codemirror_mode": {
    "name": "ipython",
    "version": 3
   },
   "file_extension": ".py",
   "mimetype": "text/x-python",
   "name": "python",
   "nbconvert_exporter": "python",
   "pygments_lexer": "ipython3",
   "version": "3.6.5"
  }
 },
 "nbformat": 4,
 "nbformat_minor": 2
}
