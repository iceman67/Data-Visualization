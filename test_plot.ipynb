{
 "cells": [
  {
   "cell_type": "code",
   "execution_count": 1,
   "metadata": {},
   "outputs": [],
   "source": [
    "import numpy as np"
   ]
  },
  {
   "cell_type": "code",
   "execution_count": null,
   "metadata": {},
   "outputs": [],
   "source": [
    "data = np.array([[1,2,3],[4,500,9000]])"
   ]
  },
  {
   "cell_type": "code",
   "execution_count": 5,
   "metadata": {},
   "outputs": [],
   "source": [
    "import matplotlib.pyplot as plt"
   ]
  },
  {
   "cell_type": "code",
   "execution_count": 36,
   "metadata": {},
   "outputs": [
    {
     "data": {
      "image/png": "[encoded data removed]",
      "text/plain": [
       "<Figure size 432x288 with 1 Axes>"
      ]
     },
     "metadata": {
      "needs_background": "light"
     },
     "output_type": "display_data"
    }
   ],
   "source": [
    "plt.scatter(data[0,:], data[1,:])\n",
    "\n",
    "plt.plot(data[0,:], data[1,:])\n",
    "plt.xlabel(\"x axis\")\n",
    "plt.ylabel(\"y axis\")\n",
    "plt.yscale(\"log\")\n",
    "a = data[0,:] \n",
    "b = data[1,:]"
   ]
  },
  {
   "cell_type": "code",
   "execution_count": 40,
   "metadata": {},
   "outputs": [
    {
     "name": "stdout",
     "output_type": "stream",
     "text": [
      "9 squared is 81\n"
     ]
    }
   ],
   "source": [
    "import numpy as np\n",
    "\n",
    "def square(x):\n",
    "    return x * x\n"
   ]
  },
  {
   "cell_type": "code",
   "execution_count": 41,
   "metadata": {},
   "outputs": [
    {
     "name": "stdout",
     "output_type": "stream",
     "text": [
      "3 squared is 9\n"
     ]
    }
   ],
   "source": [
    "x = np.random.randint(1, 10)\n",
    "y = square(x)\n",
    "\n",
    "print('%d squared is %d' % (x, y))"
   ]
  },
  {
   "cell_type": "code",
   "execution_count": 3,
   "metadata": {},
   "outputs": [],
   "source": [
    "%matplotlib inline\n",
    "\n",
    "import pandas as pd\n",
    "import matplotlib.pyplot as plt\n",
    "\n"
   ]
  },
  {
   "cell_type": "code",
   "execution_count": 4,
   "metadata": {},
   "outputs": [],
   "source": [
    "df = pd.read_csv('Fortune500.csv')"
   ]
  },
  {
   "cell_type": "code",
   "execution_count": 5,
   "metadata": {},
   "outputs": [
    {
     "data": {
      "text/html": [
       "<div>\n",
       "<style scoped>\n",
       "    .dataframe tbody tr th:only-of-type {\n",
       "        vertical-align: middle;\n",
       "    }\n",
       "\n",
       "    .dataframe tbody tr th {\n",
       "        vertical-align: top;\n",
       "    }\n",
       "\n",
       "    .dataframe thead th {\n",
       "        text-align: right;\n",
       "    }\n",
       "</style>\n",
       "<table border=\"1\" class=\"dataframe\">\n",
       "  <thead>\n",
       "    <tr style=\"text-align: right;\">\n",
       "      <th></th>\n",
       "      <th>Rank</th>\n",
       "      <th>Title</th>\n",
       "      <th>Website</th>\n",
       "      <th>Employees</th>\n",
       "      <th>Sector</th>\n",
       "      <th>Industry</th>\n",
       "      <th>Hqlocation</th>\n",
       "      <th>Hqaddr</th>\n",
       "      <th>Hqcity</th>\n",
       "      <th>Hqstate</th>\n",
       "      <th>...</th>\n",
       "      <th>Ceo-title</th>\n",
       "      <th>Address</th>\n",
       "      <th>Ticker</th>\n",
       "      <th>Fullname</th>\n",
       "      <th>Revenues</th>\n",
       "      <th>Revchange</th>\n",
       "      <th>Profits</th>\n",
       "      <th>Prftchange</th>\n",
       "      <th>Assets</th>\n",
       "      <th>Totshequity</th>\n",
       "    </tr>\n",
       "  </thead>\n",
       "  <tbody>\n",
       "    <tr>\n",
       "      <th>0</th>\n",
       "      <td>1</td>\n",
       "      <td>Walmart</td>\n",
       "      <td>http://www.walmart.com</td>\n",
       "      <td>2300000</td>\n",
       "      <td>Retailing</td>\n",
       "      <td>General Merchandisers</td>\n",
       "      <td>Bentonville, AR</td>\n",
       "      <td>702 S.W. Eighth St.</td>\n",
       "      <td>Bentonville</td>\n",
       "      <td>AR</td>\n",
       "      <td>...</td>\n",
       "      <td>President, Chief Executive Officer &amp; Director</td>\n",
       "      <td>702 S.W. Eighth St., Bentonville, AR 72716</td>\n",
       "      <td>WMT</td>\n",
       "      <td>Wal-Mart Stores, Inc.</td>\n",
       "      <td>485873</td>\n",
       "      <td>0.8</td>\n",
       "      <td>13643.0</td>\n",
       "      <td>-7.2</td>\n",
       "      <td>198825</td>\n",
       "      <td>77798.0</td>\n",
       "    </tr>\n",
       "    <tr>\n",
       "      <th>1</th>\n",
       "      <td>2</td>\n",
       "      <td>Berkshire Hathaway</td>\n",
       "      <td>http://www.berkshirehathaway.com</td>\n",
       "      <td>367700</td>\n",
       "      <td>Financials</td>\n",
       "      <td>Insurance: Property and Casualty (Stock)</td>\n",
       "      <td>Omaha, NE</td>\n",
       "      <td>3555 Farnam St.</td>\n",
       "      <td>Omaha</td>\n",
       "      <td>NE</td>\n",
       "      <td>...</td>\n",
       "      <td>Chairman &amp; Chief Executive Officer</td>\n",
       "      <td>3555 Farnam St., Omaha, NE 68131</td>\n",
       "      <td>BRKA</td>\n",
       "      <td>Berkshire Hathaway Inc.</td>\n",
       "      <td>223604</td>\n",
       "      <td>6.1</td>\n",
       "      <td>24074.0</td>\n",
       "      <td>0</td>\n",
       "      <td>620854</td>\n",
       "      <td>283001.0</td>\n",
       "    </tr>\n",
       "    <tr>\n",
       "      <th>2</th>\n",
       "      <td>3</td>\n",
       "      <td>Apple</td>\n",
       "      <td>http://www.apple.com</td>\n",
       "      <td>116000</td>\n",
       "      <td>Technology</td>\n",
       "      <td>Computers, Office Equipment</td>\n",
       "      <td>Cupertino, CA</td>\n",
       "      <td>1 Infinite Loop</td>\n",
       "      <td>Cupertino</td>\n",
       "      <td>CA</td>\n",
       "      <td>...</td>\n",
       "      <td>Chief Executive Officer &amp; Director</td>\n",
       "      <td>1 Infinite Loop, Cupertino, CA 95014</td>\n",
       "      <td>AAPL</td>\n",
       "      <td>Apple, Inc.</td>\n",
       "      <td>215639</td>\n",
       "      <td>-7.7</td>\n",
       "      <td>45687.0</td>\n",
       "      <td>-14.4</td>\n",
       "      <td>321686</td>\n",
       "      <td>128249.0</td>\n",
       "    </tr>\n",
       "    <tr>\n",
       "      <th>3</th>\n",
       "      <td>4</td>\n",
       "      <td>Exxon Mobil</td>\n",
       "      <td>http://www.exxonmobil.com</td>\n",
       "      <td>72700</td>\n",
       "      <td>Energy</td>\n",
       "      <td>Petroleum Refining</td>\n",
       "      <td>Irving, TX</td>\n",
       "      <td>5959 Las Colinas Blvd.</td>\n",
       "      <td>Irving</td>\n",
       "      <td>TX</td>\n",
       "      <td>...</td>\n",
       "      <td>Chairman &amp; Chief Executive Officer</td>\n",
       "      <td>5959 Las Colinas Blvd., Irving, TX 75039</td>\n",
       "      <td>XOM</td>\n",
       "      <td>Exxon Mobil Corporation</td>\n",
       "      <td>205004</td>\n",
       "      <td>-16.7</td>\n",
       "      <td>7840.0</td>\n",
       "      <td>-51.5</td>\n",
       "      <td>330314</td>\n",
       "      <td>167325.0</td>\n",
       "    </tr>\n",
       "    <tr>\n",
       "      <th>4</th>\n",
       "      <td>5</td>\n",
       "      <td>McKesson</td>\n",
       "      <td>http://www.mckesson.com</td>\n",
       "      <td>68000</td>\n",
       "      <td>Wholesalers</td>\n",
       "      <td>Wholesalers: Health Care</td>\n",
       "      <td>San Francisco, CA</td>\n",
       "      <td>1 Post St.</td>\n",
       "      <td>San Francisco</td>\n",
       "      <td>CA</td>\n",
       "      <td>...</td>\n",
       "      <td>Chairman, President &amp; Chief Executive Officer</td>\n",
       "      <td>1 Post St., San Francisco, CA 94104</td>\n",
       "      <td>MCK</td>\n",
       "      <td>McKesson Corporation</td>\n",
       "      <td>192487</td>\n",
       "      <td>6.2</td>\n",
       "      <td>2258.0</td>\n",
       "      <td>53</td>\n",
       "      <td>56563</td>\n",
       "      <td>8924.0</td>\n",
       "    </tr>\n",
       "  </tbody>\n",
       "</table>\n",
       "<p>5 rows × 23 columns</p>\n",
       "</div>"
      ],
      "text/plain": [
       "   Rank               Title                           Website  Employees  \\\n",
       "0     1             Walmart            http://www.walmart.com    2300000   \n",
       "1     2  Berkshire Hathaway  http://www.berkshirehathaway.com     367700   \n",
       "2     3               Apple              http://www.apple.com     116000   \n",
       "3     4         Exxon Mobil         http://www.exxonmobil.com      72700   \n",
       "4     5            McKesson           http://www.mckesson.com      68000   \n",
       "\n",
       "        Sector                                  Industry         Hqlocation  \\\n",
       "0    Retailing                     General Merchandisers    Bentonville, AR   \n",
       "1   Financials  Insurance: Property and Casualty (Stock)          Omaha, NE   \n",
       "2   Technology               Computers, Office Equipment      Cupertino, CA   \n",
       "3       Energy                        Petroleum Refining         Irving, TX   \n",
       "4  Wholesalers                  Wholesalers: Health Care  San Francisco, CA   \n",
       "\n",
       "                   Hqaddr         Hqcity Hqstate     ...       \\\n",
       "0     702 S.W. Eighth St.    Bentonville      AR     ...        \n",
       "1         3555 Farnam St.          Omaha      NE     ...        \n",
       "2         1 Infinite Loop      Cupertino      CA     ...        \n",
       "3  5959 Las Colinas Blvd.         Irving      TX     ...        \n",
       "4              1 Post St.  San Francisco      CA     ...        \n",
       "\n",
       "                                       Ceo-title  \\\n",
       "0  President, Chief Executive Officer & Director   \n",
       "1             Chairman & Chief Executive Officer   \n",
       "2             Chief Executive Officer & Director   \n",
       "3             Chairman & Chief Executive Officer   \n",
       "4  Chairman, President & Chief Executive Officer   \n",
       "\n",
       "                                      Address Ticker                 Fullname  \\\n",
       "0  702 S.W. Eighth St., Bentonville, AR 72716    WMT    Wal-Mart Stores, Inc.   \n",
       "1            3555 Farnam St., Omaha, NE 68131   BRKA  Berkshire Hathaway Inc.   \n",
       "2        1 Infinite Loop, Cupertino, CA 95014   AAPL              Apple, Inc.   \n",
       "3    5959 Las Colinas Blvd., Irving, TX 75039    XOM  Exxon Mobil Corporation   \n",
       "4         1 Post St., San Francisco, CA 94104    MCK     McKesson Corporation   \n",
       "\n",
       "  Revenues Revchange  Profits  Prftchange  Assets  Totshequity  \n",
       "0   485873       0.8  13643.0        -7.2  198825      77798.0  \n",
       "1   223604       6.1  24074.0           0  620854     283001.0  \n",
       "2   215639      -7.7  45687.0       -14.4  321686     128249.0  \n",
       "3   205004     -16.7   7840.0       -51.5  330314     167325.0  \n",
       "4   192487       6.2   2258.0          53   56563       8924.0  \n",
       "\n",
       "[5 rows x 23 columns]"
      ]
     },
     "execution_count": 5,
     "metadata": {},
     "output_type": "execute_result"
    }
   ],
   "source": [
    "df.head()"
   ]
  },
  {
   "cell_type": "code",
   "execution_count": null,
   "metadata": {},
   "outputs": [],
   "source": []
  },
  {
   "cell_type": "code",
   "execution_count": 7,
   "metadata": {},
   "outputs": [
    {
     "data": {
      "text/plain": [
       "500"
      ]
     },
     "execution_count": 7,
     "metadata": {},
     "output_type": "execute_result"
    }
   ],
   "source": [
    "len(df)"
   ]
  },
  {
   "cell_type": "code",
   "execution_count": 8,
   "metadata": {},
   "outputs": [],
   "source": [
    "a=10"
   ]
  },
  {
   "cell_type": "code",
   "execution_count": 9,
   "metadata": {},
   "outputs": [
    {
     "name": "stdout",
     "output_type": "stream",
     "text": [
      "10\n"
     ]
    }
   ],
   "source": [
    "print(a)"
   ]
  },
  {
   "cell_type": "code",
   "execution_count": 12,
   "metadata": {},
   "outputs": [],
   "source": [
    "import time\n",
    "time.sleep(10)"
   ]
  },
  {
   "cell_type": "code",
   "execution_count": 14,
   "metadata": {},
   "outputs": [
    {
     "name": "stdout",
     "output_type": "stream",
     "text": [
      "0\n",
      "1\n",
      "2\n",
      "3\n",
      "4\n",
      "5\n",
      "6\n",
      "7\n"
     ]
    }
   ],
   "source": [
    "import time, sys\n",
    "for i in range(8):\n",
    "   print(i)\n",
    "   time.sleep(0.5)"
   ]
  },
  {
   "cell_type": "code",
   "execution_count": 19,
   "metadata": {},
   "outputs": [
    {
     "data": {
      "image/png": "[encoded data removed]",
      "text/plain": [
       "<Figure size 432x288 with 1 Axes>"
      ]
     },
     "metadata": {
      "needs_background": "light"
     },
     "output_type": "display_data"
    }
   ],
   "source": [
    "# Plot one of Griffin's favorite functions.\n",
    "x = np.linspace(-np.pi, np.pi, 500)\n",
    "y = np.sin(2 * np.sin(2 * np.sin(2 * x)))\n",
    "\n",
    "# Generate the plot.\n",
    "plt.plot(x, y)\n",
    "plt.xlabel(r'$x$', fontsize=16)\n",
    "plt.ylabel(r'$y$', fontsize=16)\n",
    "\n",
    "# Don't worry about this syntax for now.\n",
    "_ = plt.xticks([-np.pi, 0, np.pi], ['$-\\pi$', '0', '$\\pi$'], fontsize=15)"
   ]
  },
  {
   "cell_type": "code",
   "execution_count": null,
   "metadata": {},
   "outputs": [],
   "source": [
    "$$\n",
    "\\int\\limits_{-\\infty}^{\\infty}e^{-\\alpha x^2} dx = {\\sqrt{\\pi}\\over{\\alpha}}\n",
    "$$"
   ]
  }
 ],
 "metadata": {
  "kernelspec": {
   "display_name": "Python 3",
   "language": "python",
   "name": "python3"
  },
  "language_info": {
   "codemirror_mode": {
    "name": "ipython",
    "version": 3
   },
   "file_extension": ".py",
   "mimetype": "text/x-python",
   "name": "python",
   "nbconvert_exporter": "python",
   "pygments_lexer": "ipython3",
   "version": "3.6.5"
  }
 },
 "nbformat": 4,
 "nbformat_minor": 2
}
